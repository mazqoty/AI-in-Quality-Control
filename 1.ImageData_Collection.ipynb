{
 "cells": [
  {
   "cell_type": "markdown",
   "metadata": {},
   "source": [
    "# 1. Import Dependencies"
   ]
  },
  {
   "cell_type": "code",
   "execution_count": null,
   "metadata": {},
   "outputs": [],
   "source": [
    "!pip install opencv-python\n",
    "#!pip install Cython>=0.29.12"
   ]
  },
  {
   "cell_type": "code",
   "execution_count": 18,
   "metadata": {},
   "outputs": [],
   "source": [
    "# Import opencv\n",
    "import cv2 \n",
    "\n",
    "# Import uuid\n",
    "import uuid\n",
    "\n",
    "# Import Operating System\n",
    "import os\n",
    "\n",
    "# Import time\n",
    "import time"
   ]
  },
  {
   "cell_type": "markdown",
   "metadata": {},
   "source": [
    "# 2. Define Images to Collect"
   ]
  },
  {
   "cell_type": "code",
   "execution_count": 4,
   "metadata": {},
   "outputs": [],
   "source": [
    "labels = ['mask', 'no-mask']\n",
    "number_imgs = 5"
   ]
  },
  {
   "cell_type": "markdown",
   "metadata": {},
   "source": [
    "# 3. Setup Folders "
   ]
  },
  {
   "cell_type": "code",
   "execution_count": null,
   "metadata": {},
   "outputs": [],
   "source": [
    "pwd"
   ]
  },
  {
   "cell_type": "code",
   "execution_count": 6,
   "metadata": {},
   "outputs": [],
   "source": [
    "IMAGES_PATH = os.path.join('images', 'collectedimages')"
   ]
  },
  {
   "cell_type": "code",
   "execution_count": 89,
   "metadata": {},
   "outputs": [
    {
     "name": "stdout",
     "output_type": "stream",
     "text": [
      "images\\collectedimages\n"
     ]
    }
   ],
   "source": [
    "print(IMAGES_PATH)"
   ]
  },
  {
   "cell_type": "code",
   "execution_count": 8,
   "metadata": {},
   "outputs": [
    {
     "data": {
      "text/plain": [
       "'nt'"
      ]
     },
     "execution_count": 8,
     "metadata": {},
     "output_type": "execute_result"
    }
   ],
   "source": [
    "os.name"
   ]
  },
  {
   "cell_type": "code",
   "execution_count": 9,
   "metadata": {},
   "outputs": [],
   "source": [
    "if not os.path.exists(IMAGES_PATH):\n",
    "    if os.name == 'posix':      # for colab\n",
    "        !mkdir -p {IMAGES_PATH}\n",
    "    if os.name == 'nt':         # for windows\n",
    "         !mkdir {IMAGES_PATH}\n",
    "for label in labels:\n",
    "    path = os.path.join(IMAGES_PATH, label)\n",
    "    if not os.path.exists(path):\n",
    "        !mkdir {path}"
   ]
  },
  {
   "cell_type": "markdown",
   "metadata": {},
   "source": [
    "# 4. Capture Images"
   ]
  },
  {
   "cell_type": "code",
   "execution_count": 12,
   "metadata": {},
   "outputs": [
    {
     "name": "stdout",
     "output_type": "stream",
     "text": [
      "Collecting images for mask\n",
      "Collecting image 0\n",
      "Collecting image 1\n",
      "Collecting image 2\n",
      "Collecting image 3\n",
      "Collecting image 4\n",
      "Collecting images for no-mask\n",
      "Collecting image 0\n",
      "Collecting image 1\n",
      "Collecting image 2\n",
      "Collecting image 3\n",
      "Collecting image 4\n"
     ]
    }
   ],
   "source": [
    "for label in labels:\n",
    "    #CONNECTS TO WEBCAM OR CAPTURE DEVICE\n",
    "    cap = cv2.VideoCapture(0)     \n",
    "    print('Collecting images for {}'.format(label))\n",
    "    time.sleep(15)\n",
    "    for imgnum in range(number_imgs):\n",
    "        print('Collecting image {}'.format(imgnum))\n",
    "        ret, frame = cap.read()\n",
    "        imgname = os.path.join(IMAGES_PATH,label,label+'.'+'{}.jpg'.format(str(uuid.uuid1())))\n",
    "        cv2.imwrite(imgname, frame)\n",
    "        cv2.imshow('frame', frame)\n",
    "        time.sleep(5)\n",
    "\n",
    "        if cv2.waitKey(1) & 0xFF == ord('q'):\n",
    "            break\n",
    "            \n",
    "cap.release()\n",
    "cv2.destroyAllWindows()"
   ]
  },
  {
   "cell_type": "markdown",
   "metadata": {},
   "source": [
    "# 5. Image Labelling"
   ]
  },
  {
   "cell_type": "markdown",
   "metadata": {},
   "source": [
    "### iNSTALLATION INSTRUCTION\n",
    "### https://github.com/heartexlabs/labelImg"
   ]
  },
  {
   "cell_type": "markdown",
   "metadata": {},
   "source": [
    "Windows + Anaconda\n",
    "\n",
    "- Download and install Anaconda (Python 3+)\n",
    "- Open the Anaconda Prompt and go to the 'labelImg' directory\n",
    "\n",
    "- conda install pyqt=5\n",
    "- conda install -c anaconda lxml\n",
    "- pyrcc5 -o libs/resources.py resources.qrc\n",
    "- python labelImg.py\n",
    "- python labelImg.py [IMAGE_PATH] [PRE-DEFINED CLASS FILE]"
   ]
  },
  {
   "cell_type": "code",
   "execution_count": 9,
   "metadata": {},
   "outputs": [],
   "source": [
    "#!pip install --upgrade pyqt5 lxml"
   ]
  },
  {
   "cell_type": "code",
   "execution_count": 27,
   "metadata": {},
   "outputs": [],
   "source": [
    "# give any path where you would like to install 'LabelImg'\n",
    "#LABELIMG_PATH = os.path.join(os.getcwd(), 'labelimg')"
   ]
  },
  {
   "cell_type": "code",
   "execution_count": null,
   "metadata": {},
   "outputs": [],
   "source": [
    "#LABELIMG_PATH"
   ]
  },
  {
   "cell_type": "code",
   "execution_count": null,
   "metadata": {},
   "outputs": [],
   "source": [
    "# if not os.path.exists(LABELIMG_PATH):\n",
    "#     !mkdir {LABELIMG_PATH}\n",
    "#     !git clone https://github.com/tzutalin/labelImg {LABELIMG_PATH}"
   ]
  },
  {
   "cell_type": "code",
   "execution_count": 13,
   "metadata": {},
   "outputs": [],
   "source": [
    "# if os.name == 'posix':\n",
    "#     !make qt5py3\n",
    "# if os.name =='nt':\n",
    "#     !cd {LABELIMG_PATH} && pyrcc5 -o libs/resources.py resources.qrc"
   ]
  },
  {
   "cell_type": "code",
   "execution_count": null,
   "metadata": {},
   "outputs": [],
   "source": [
    "#!cd {LABELIMG_PATH} && python labelImg.py"
   ]
  },
  {
   "cell_type": "markdown",
   "metadata": {},
   "source": [
    "# 6. Generate CSV "
   ]
  },
  {
   "cell_type": "code",
   "execution_count": 120,
   "metadata": {},
   "outputs": [],
   "source": [
    "import os\n",
    "import glob\n",
    "import pandas as pd\n",
    "import xml.etree.ElementTree as ET\n",
    "import matplotlib.pyplot as plt\n",
    "import seaborn as sns\n",
    "%matplotlib inline \n",
    "\n",
    "\n",
    "def xml_to_csv(path):\n",
    "    xml_list = []\n",
    "    for xml_file in glob.glob(path + '/*.xml'):\n",
    "        tree = ET.parse(xml_file)\n",
    "        root = tree.getroot()\n",
    "        for member in root.findall('object'):\n",
    "            value = (root.find('filename').text,\n",
    "                     int(root.find('size')[0].text),\n",
    "                     int(root.find('size')[1].text),\n",
    "                     member[0].text,\n",
    "                     int(member[4][0].text),\n",
    "                     int(member[4][1].text),\n",
    "                     int(member[4][2].text),\n",
    "                     int(member[4][3].text)\n",
    "                     )\n",
    "            xml_list.append(value)\n",
    "    column_name = ['filename', 'width', 'height', 'class', 'xmin', 'ymin', 'xmax', 'ymax']\n",
    "    xml_df = pd.DataFrame(xml_list, columns=column_name)\n",
    "    return xml_df"
   ]
  },
  {
   "cell_type": "code",
   "execution_count": 121,
   "metadata": {},
   "outputs": [
    {
     "name": "stdout",
     "output_type": "stream",
     "text": [
      "Successfully converted xml to csv.\n"
     ]
    }
   ],
   "source": [
    "for folder in ['collectedimages']:\n",
    "    images_Folder_path = os.path.join(os.getcwd(), 'images/' + 'collectedimages')\n",
    "    xml_df = xml_to_csv(images_Folder_path)\n",
    "    xml_df.to_csv((images_Folder_path + '/' + '_labels.csv'), index=None)\n",
    "    print('Successfully converted xml to csv.')"
   ]
  },
  {
   "cell_type": "code",
   "execution_count": 122,
   "metadata": {},
   "outputs": [],
   "source": [
    "#pwd"
   ]
  },
  {
   "cell_type": "code",
   "execution_count": 123,
   "metadata": {},
   "outputs": [],
   "source": [
    "#os.path.join(os.getcwd(), 'images/' + 'collectedimages')"
   ]
  },
  {
   "cell_type": "code",
   "execution_count": 124,
   "metadata": {},
   "outputs": [
    {
     "data": {
      "text/html": [
       "<div>\n",
       "<style scoped>\n",
       "    .dataframe tbody tr th:only-of-type {\n",
       "        vertical-align: middle;\n",
       "    }\n",
       "\n",
       "    .dataframe tbody tr th {\n",
       "        vertical-align: top;\n",
       "    }\n",
       "\n",
       "    .dataframe thead th {\n",
       "        text-align: right;\n",
       "    }\n",
       "</style>\n",
       "<table border=\"1\" class=\"dataframe\">\n",
       "  <thead>\n",
       "    <tr style=\"text-align: right;\">\n",
       "      <th></th>\n",
       "      <th>filename</th>\n",
       "      <th>width</th>\n",
       "      <th>height</th>\n",
       "      <th>class</th>\n",
       "      <th>xmin</th>\n",
       "      <th>ymin</th>\n",
       "      <th>xmax</th>\n",
       "      <th>ymax</th>\n",
       "    </tr>\n",
       "  </thead>\n",
       "  <tbody>\n",
       "    <tr>\n",
       "      <th>0</th>\n",
       "      <td>maksssksksss4.png</td>\n",
       "      <td>301</td>\n",
       "      <td>400</td>\n",
       "      <td>mask</td>\n",
       "      <td>59</td>\n",
       "      <td>145</td>\n",
       "      <td>188</td>\n",
       "      <td>322</td>\n",
       "    </tr>\n",
       "    <tr>\n",
       "      <th>1</th>\n",
       "      <td>maksssksksss522.png</td>\n",
       "      <td>267</td>\n",
       "      <td>400</td>\n",
       "      <td>no-mask</td>\n",
       "      <td>79</td>\n",
       "      <td>100</td>\n",
       "      <td>149</td>\n",
       "      <td>179</td>\n",
       "    </tr>\n",
       "    <tr>\n",
       "      <th>2</th>\n",
       "      <td>maksssksksss528.png</td>\n",
       "      <td>301</td>\n",
       "      <td>400</td>\n",
       "      <td>no-mask</td>\n",
       "      <td>32</td>\n",
       "      <td>117</td>\n",
       "      <td>157</td>\n",
       "      <td>304</td>\n",
       "    </tr>\n",
       "    <tr>\n",
       "      <th>3</th>\n",
       "      <td>maksssksksss530.png</td>\n",
       "      <td>301</td>\n",
       "      <td>400</td>\n",
       "      <td>no-mask</td>\n",
       "      <td>47</td>\n",
       "      <td>201</td>\n",
       "      <td>150</td>\n",
       "      <td>348</td>\n",
       "    </tr>\n",
       "    <tr>\n",
       "      <th>4</th>\n",
       "      <td>maksssksksss537.png</td>\n",
       "      <td>301</td>\n",
       "      <td>400</td>\n",
       "      <td>no-mask</td>\n",
       "      <td>80</td>\n",
       "      <td>123</td>\n",
       "      <td>203</td>\n",
       "      <td>294</td>\n",
       "    </tr>\n",
       "    <tr>\n",
       "      <th>...</th>\n",
       "      <td>...</td>\n",
       "      <td>...</td>\n",
       "      <td>...</td>\n",
       "      <td>...</td>\n",
       "      <td>...</td>\n",
       "      <td>...</td>\n",
       "      <td>...</td>\n",
       "      <td>...</td>\n",
       "    </tr>\n",
       "    <tr>\n",
       "      <th>207</th>\n",
       "      <td>self-mask-9.png</td>\n",
       "      <td>605</td>\n",
       "      <td>324</td>\n",
       "      <td>mask</td>\n",
       "      <td>224</td>\n",
       "      <td>2</td>\n",
       "      <td>405</td>\n",
       "      <td>263</td>\n",
       "    </tr>\n",
       "    <tr>\n",
       "      <th>208</th>\n",
       "      <td>self-no-mask-1.png</td>\n",
       "      <td>487</td>\n",
       "      <td>441</td>\n",
       "      <td>no-mask</td>\n",
       "      <td>199</td>\n",
       "      <td>39</td>\n",
       "      <td>348</td>\n",
       "      <td>240</td>\n",
       "    </tr>\n",
       "    <tr>\n",
       "      <th>209</th>\n",
       "      <td>self-no-mask-2.png</td>\n",
       "      <td>423</td>\n",
       "      <td>436</td>\n",
       "      <td>no-mask</td>\n",
       "      <td>230</td>\n",
       "      <td>68</td>\n",
       "      <td>378</td>\n",
       "      <td>237</td>\n",
       "    </tr>\n",
       "    <tr>\n",
       "      <th>210</th>\n",
       "      <td>self-no-mask-3.png</td>\n",
       "      <td>315</td>\n",
       "      <td>423</td>\n",
       "      <td>no-mask</td>\n",
       "      <td>128</td>\n",
       "      <td>52</td>\n",
       "      <td>275</td>\n",
       "      <td>245</td>\n",
       "    </tr>\n",
       "    <tr>\n",
       "      <th>211</th>\n",
       "      <td>self-no-mask-4.png</td>\n",
       "      <td>360</td>\n",
       "      <td>415</td>\n",
       "      <td>no-mask</td>\n",
       "      <td>106</td>\n",
       "      <td>7</td>\n",
       "      <td>246</td>\n",
       "      <td>208</td>\n",
       "    </tr>\n",
       "  </tbody>\n",
       "</table>\n",
       "<p>212 rows × 8 columns</p>\n",
       "</div>"
      ],
      "text/plain": [
       "                filename  width  height    class  xmin  ymin  xmax  ymax\n",
       "0      maksssksksss4.png    301     400     mask    59   145   188   322\n",
       "1    maksssksksss522.png    267     400  no-mask    79   100   149   179\n",
       "2    maksssksksss528.png    301     400  no-mask    32   117   157   304\n",
       "3    maksssksksss530.png    301     400  no-mask    47   201   150   348\n",
       "4    maksssksksss537.png    301     400  no-mask    80   123   203   294\n",
       "..                   ...    ...     ...      ...   ...   ...   ...   ...\n",
       "207      self-mask-9.png    605     324     mask   224     2   405   263\n",
       "208   self-no-mask-1.png    487     441  no-mask   199    39   348   240\n",
       "209   self-no-mask-2.png    423     436  no-mask   230    68   378   237\n",
       "210   self-no-mask-3.png    315     423  no-mask   128    52   275   245\n",
       "211   self-no-mask-4.png    360     415  no-mask   106     7   246   208\n",
       "\n",
       "[212 rows x 8 columns]"
      ]
     },
     "execution_count": 124,
     "metadata": {},
     "output_type": "execute_result"
    }
   ],
   "source": [
    "df = pd.read_csv(os.path.join(os.getcwd(), 'images', 'collectedimages', '_labels.csv'))\n",
    "df"
   ]
  },
  {
   "cell_type": "code",
   "execution_count": 125,
   "metadata": {},
   "outputs": [
    {
     "data": {
      "text/plain": [
       "mask       106\n",
       "no-mask    106\n",
       "Name: class, dtype: int64"
      ]
     },
     "execution_count": 125,
     "metadata": {},
     "output_type": "execute_result"
    }
   ],
   "source": [
    "df['class'].value_counts()"
   ]
  },
  {
   "cell_type": "code",
   "execution_count": 126,
   "metadata": {},
   "outputs": [
    {
     "data": {
      "image/png": "[encoded data removed]",
      "text/plain": [
       "<Figure size 640x480 with 1 Axes>"
      ]
     },
     "metadata": {},
     "output_type": "display_data"
    }
   ],
   "source": [
    "sns.set (style = 'darkgrid')\n",
    "ax = sns.countplot(x = 'class', data = df)"
   ]
  },
  {
   "cell_type": "markdown",
   "metadata": {},
   "source": [
    "# 7. Move them into a Training and Testing Partition"
   ]
  },
  {
   "cell_type": "code",
   "execution_count": null,
   "metadata": {},
   "outputs": [],
   "source": [
    "IMAGES_PATH = os.path.join(os.getcwd(), 'images', 'collectedimages')\n",
    "IMAGES_PATH"
   ]
  },
  {
   "cell_type": "code",
   "execution_count": 151,
   "metadata": {},
   "outputs": [
    {
     "name": "stdout",
     "output_type": "stream",
     "text": [
      "Total images:  111.0\n",
      "Images in train dir: 88.0\n",
      "Images in test dir: 22.0\n"
     ]
    }
   ],
   "source": [
    "import os\n",
    "from random import choice\n",
    "import shutil\n",
    "\n",
    "#arrays to store file names\n",
    "imgs =[]\n",
    "xmls =[]\n",
    "\n",
    "#SETUP DIRECTORIES FOR TRAIN, TEST, VALIDATION\n",
    "trainPath = os.path.join(IMAGES_PATH, 'train')\n",
    "if not os.path.exists(trainPath):\n",
    "    if os.name == 'posix':      # for colab\n",
    "        !mkdir -p {trainPath}\n",
    "    if os.name == 'nt':         # for windows\n",
    "         !mkdir {trainPath}\n",
    "\n",
    "# validation folder is same as source folder i.e. crsPath/IMAGES_PATH, later remaining images folder will be used for validation \n",
    "# and this will be renamed\n",
    "#valPath = 'val' \n",
    "\n",
    "testPath = os.path.join(IMAGES_PATH, 'test')\n",
    "if not os.path.exists(testPath):\n",
    "    if os.name == 'posix':      # for colab\n",
    "        !mkdir -p {testPath}\n",
    "    if os.name == 'nt':         # for windows\n",
    "         !mkdir {testPath}\n",
    "            \n",
    "crsPath = IMAGES_PATH #dir where images and annotations stored\n",
    "\n",
    "#setup ratio (val ratio = rest of the files in origin dir after splitting into train and test)\n",
    "train_ratio = 0.8\n",
    "test_ratio = 0.2 # Use 0.1 if want to use setup validation forlder, so there will be some images left out\n",
    "\n",
    "\n",
    "#total count of imgs\n",
    "totalImgCount = len(os.listdir(crsPath))/2\n",
    "#totalImgCount\n",
    "\n",
    "#soring files to corresponding arrays\n",
    "for (dirname, dirs, files) in os.walk(crsPath):\n",
    "    for filename in files:\n",
    "        if filename.endswith('.xml'):\n",
    "            xmls.append(filename)\n",
    "        else:\n",
    "            imgs.append(filename)\n",
    "            \n",
    "\n",
    "#counting range for cycles\n",
    "countForTrain = int(len(imgs)*train_ratio)\n",
    "countForTest = int(len(imgs)*test_ratio)\n",
    "\n",
    "\n",
    "#cycle for train dir\n",
    "for x in range(countForTrain):\n",
    "\n",
    "    imagFile = choice(imgs) # get name of random image from origin dir\n",
    "    fileXml = imagFile[:-4] +'.xml' # get name of corresponding annotation file\n",
    "\n",
    "    #move both files into train dir\n",
    "    shutil.move(os.path.join(crsPath, imagFile), os.path.join(trainPath, imagFile))\n",
    "    shutil.move(os.path.join(crsPath, fileXml), os.path.join(trainPath, fileXml))\n",
    "\n",
    "    #remove files from arrays\n",
    "    imgs.remove(imagFile)\n",
    "    xmls.remove(fileXml)\n",
    "\n",
    "\n",
    "#cycle for test dir   \n",
    "for x in range(countForTest):\n",
    "\n",
    "    imagFile = choice(imgs) # get name of random image from origin dir\n",
    "    fileXml = imagFile[:-4] +'.xml' # get name of corresponding annotation file\n",
    "\n",
    "    #move both files into train dir\n",
    "    shutil.move(os.path.join(crsPath, imagFile), os.path.join(testPath, imagFile))\n",
    "    shutil.move(os.path.join(crsPath, fileXml), os.path.join(testPath, fileXml))\n",
    "\n",
    "    #remove files from arrays\n",
    "    imgs.remove(imagFile)\n",
    "    xmls.remove(fileXml)\n",
    "\n",
    "#rest of files will be validation files, so rename origin dir to val dir\n",
    "#os.rename(crsPath, valPath)\n",
    "\n",
    "#summary information after splitting\n",
    "print('Total images: ', totalImgCount)\n",
    "print('Images in train dir:', len(os.listdir(trainPath))/2)\n",
    "print('Images in test dir:', len(os.listdir(testPath))/2)\n",
    "#print('Images in validation dir:', len(os.listdir(valPath))/2)"
   ]
  },
  {
   "cell_type": "markdown",
   "metadata": {},
   "source": [
    "# 8. Compress them for Colab Training"
   ]
  },
  {
   "cell_type": "code",
   "execution_count": 152,
   "metadata": {},
   "outputs": [],
   "source": [
    "import os"
   ]
  },
  {
   "cell_type": "code",
   "execution_count": 153,
   "metadata": {},
   "outputs": [],
   "source": [
    "ARCHIVE_PATH = os.path.join('images', 'archive.tar.gz')\n",
    "testPath = os.path.join(IMAGES_PATH, 'test')\n",
    "trainPath = os.path.join(IMAGES_PATH, 'train')"
   ]
  },
  {
   "cell_type": "code",
   "execution_count": 155,
   "metadata": {},
   "outputs": [
    {
     "name": "stderr",
     "output_type": "stream",
     "text": [
      "tar: Removing leading drive letter from member names\n"
     ]
    }
   ],
   "source": [
    "!tar -czf {ARCHIVE_PATH} {testPath} {trainPath}"
   ]
  }
 ],
 "metadata": {
  "kernelspec": {
   "display_name": "tfod_withoutGPU",
   "language": "python",
   "name": "tfod_withoutgpu"
  },
  "language_info": {
   "codemirror_mode": {
    "name": "ipython",
    "version": 3
   },
   "file_extension": ".py",
   "mimetype": "text/x-python",
   "name": "python",
   "nbconvert_exporter": "python",
   "pygments_lexer": "ipython3",
   "version": "3.9.13"
  }
 },
 "nbformat": 4,
 "nbformat_minor": 4
}
